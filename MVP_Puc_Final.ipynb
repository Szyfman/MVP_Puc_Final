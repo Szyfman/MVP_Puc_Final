{
 "cells": [
  {
   "cell_type": "markdown",
   "id": "6e0e9c27",
   "metadata": {},
   "source": [
    "# MVP Análise de Dados e Boas Práticas\n",
    "\n",
    "Nome: Daniel Waissmann Szyfman\n",
    "\n",
    "Matrícula: 4052024001726\n",
    "\n",
    "Dataset: [Car Evaluation Dataset](https://archive.ics.uci.edu/dataset/19/car+evaluation)"
   ]
  },
  {
   "cell_type": "markdown",
   "id": "f0625d99",
   "metadata": {},
   "source": [
    "# Introdução\n",
    "\n",
    "A avaliação de veículos é uma etapa essencial para a tomada de decisão por parte de consumidores, fabricantes e concessionárias. O *Car Evaluation Dataset*, disponibilizado pela UCI Machine Learning Repository, oferece uma base estruturada para análise automatizada de atributos de veículos, permitindo classificar o quão aceitável é um carro com base em critérios técnicos e financeiros.\n",
    "\n",
    "Este projeto tem como objetivo aplicar técnicas de análise exploratória e pré-processamento de dados para investigar padrões dentro deste dataset e preparar os dados para futuros modelos de machine learning. Utilizaremos a linguagem Python e bibliotecas como `pandas`, `numpy` e `seaborn`, sempre buscando adotar boas práticas de organização de código e narrativa interpretativa.\n",
    "\n",
    "Ao longo deste notebook, buscarei construir um storytelling claro: desde a definição do problema até o tratamento dos dados. A intenção é não apenas preparar os dados tecnicamente, mas também gerar insights práticos sobre os critérios que influenciam na avaliação de um veículo, e como esses critérios se relacionam entre si."
   ]
  },
  {
   "cell_type": "markdown",
   "id": "10db9c2d",
   "metadata": {},
   "source": [
    "# Definição do Problema\n",
    "\n",
    "O objetivo deste trabalho é compreender os fatores que influenciam a avaliação de veículos com base em seus atributos técnicos e econômicos. O conjunto de dados utilizado traz características como preço de compra, número de portas, capacidade de carga e segurança, entre outras variáveis categóricas."
   ]
  },
  {
   "cell_type": "markdown",
   "id": "e1319f1b",
   "metadata": {},
   "source": [
    "## Tipo de Problema\n",
    "\n",
    "Estou lidando com um problema de **classificação supervisionada**, no qual cada instância representa um veículo com características específicas, e a variável de saída indica o nível de aceitabilidade desse carro. A variável alvo possui quatro possíveis categorias: `unacc`, `acc`, `good` e `vgood`.\n",
    "\n",
    "O desafio é identificar como os atributos fornecidos contribuem para essa avaliação final e compreender os padrões que diferenciam carros mal avaliados daqueles considerados bons ou muito bons.\n"
   ]
  },
  {
   "cell_type": "markdown",
   "id": "ab3dd926",
   "metadata": {},
   "source": [
    "## Hipóteses\n",
    "\n",
    "Antes de iniciar a análise detalhada, levantei algumas hipóteses que pretendo verificar ao longo do trabalho:\n",
    "\n",
    "- Carros com maior capacidade de carga e mais portas tendem a ser melhor avaliados.\n",
    "- Veículos com manutenção muito cara ou baixa segurança provavelmente são classificados negativamente.\n",
    "- Pode haver combinações específicas entre segurança e preço de compra que afetam diretamente a avaliação, mesmo quando os demais atributos são favoráveis.\n",
    "- A segurança pode ter maior peso na classificação do que o número de passageiros ou o tamanho do porta-malas.\n",
    "- Veículos baratos com boa segurança podem ter avaliações boas mesmo com menor conforto.\n",
    "\n",
    "Essas hipóteses servirão como base para guiar a análise exploratória e a interpretação dos dados.\n"
   ]
  },
  {
   "cell_type": "markdown",
   "id": "95de19e5",
   "metadata": {},
   "source": [
    "## Seleção de Dados\n",
    "\n",
    "O dataset escolhido foi o *Car Evaluation Dataset*, originalmente publicado no UCI Machine Learning Repository. A base contém apenas atributos categóricos, que representam diferentes aspectos técnicos e funcionais de um veículo, e é amplamente utilizada para tarefas de classificação.\n",
    "\n",
    "A escolha foi motivada pela simplicidade estrutural, facilidade de entendimento e riqueza de combinações possíveis entre os atributos, o que permite uma análise interpretativa eficaz e um fluxo de pré-processamento direto.\n"
   ]
  },
  {
   "cell_type": "markdown",
   "id": "13606f6f",
   "metadata": {},
   "source": [
    "## Atributos do Dataset\n",
    "\n",
    "A base de dados é composta pelos seguintes atributos:\n",
    "\n",
    "- **buying**: custo de compra (valores: vhigh, high, med, low)\n",
    "- **maint**: custo de manutenção (valores: vhigh, high, med, low)\n",
    "- **doors**: número de portas (valores: 2, 3, 4, 5more)\n",
    "- **persons**: capacidade de pessoas (valores: 2, 4, more)\n",
    "- **lug_boot**: tamanho do porta-malas (valores: small, med, big)\n",
    "- **safety**: nível de segurança (valores: low, med, high)\n",
    "\n",
    "A variável alvo (que representa a classificação final do veículo) é:\n",
    "\n",
    "- **class**: avaliação final do carro (valores: unacc, acc, good, vgood)\n",
    "\n",
    "Todos os atributos do conjunto de dados são **categóricos com ordenação natural**. Isso significa que, apesar de representados por strings, existe uma hierarquia implícita entre os valores de cada atributo. Essa característica será essencial no momento do pré-processamento, quando precisarei aplicar uma codificação que preserve essa ordem.\n",
    "\n"
   ]
  },
  {
   "cell_type": "markdown",
   "id": "49567fb6",
   "metadata": {},
   "source": [
    "# Importação das Bibliotecas Necessárias e Carga de Dados\n",
    "\n",
    "Nesta etapa, realizarei a importação das bibliotecas essenciais para análise, visualização e preparação dos dados. Também farei o carregamento inicial do dataset para dar início à exploração."
   ]
  },
  {
   "cell_type": "code",
   "execution_count": 7,
   "id": "6b937567",
   "metadata": {},
   "outputs": [],
   "source": [
    "# Bibliotecas para manipulação e análise de dados\n",
    "import pandas as pd\n",
    "import numpy as np\n",
    "\n",
    "# Bibliotecas para visualização\n",
    "import matplotlib.pyplot as plt\n",
    "import seaborn as sns\n",
    "\n",
    "# Configurações opcionais para os gráficos\n",
    "sns.set(style=\"whitegrid\")\n",
    "plt.rcParams[\"figure.figsize\"] = (10, 6)\n"
   ]
  },
  {
   "cell_type": "code",
   "execution_count": 8,
   "id": "008e4338",
   "metadata": {},
   "outputs": [],
   "source": [
    "url = \"https://raw.githubusercontent.com/Szyfman/MVP_Puc_Final/main/car.csv\""
   ]
  },
  {
   "cell_type": "code",
   "execution_count": 9,
   "id": "69173382",
   "metadata": {},
   "outputs": [],
   "source": [
    "colunas = ['buying', 'maint', 'doors', 'persons', 'lug_boot', 'safety', 'class']\n",
    "df = pd.read_csv(url, names=colunas)"
   ]
  },
  {
   "cell_type": "code",
   "execution_count": 10,
   "id": "675e3ed6",
   "metadata": {},
   "outputs": [
    {
     "data": {
      "text/html": [
       "<div>\n",
       "<style scoped>\n",
       "    .dataframe tbody tr th:only-of-type {\n",
       "        vertical-align: middle;\n",
       "    }\n",
       "\n",
       "    .dataframe tbody tr th {\n",
       "        vertical-align: top;\n",
       "    }\n",
       "\n",
       "    .dataframe thead th {\n",
       "        text-align: right;\n",
       "    }\n",
       "</style>\n",
       "<table border=\"1\" class=\"dataframe\">\n",
       "  <thead>\n",
       "    <tr style=\"text-align: right;\">\n",
       "      <th></th>\n",
       "      <th>buying</th>\n",
       "      <th>maint</th>\n",
       "      <th>doors</th>\n",
       "      <th>persons</th>\n",
       "      <th>lug_boot</th>\n",
       "      <th>safety</th>\n",
       "      <th>class</th>\n",
       "    </tr>\n",
       "  </thead>\n",
       "  <tbody>\n",
       "    <tr>\n",
       "      <th>0</th>\n",
       "      <td>vhigh</td>\n",
       "      <td>vhigh</td>\n",
       "      <td>2</td>\n",
       "      <td>2</td>\n",
       "      <td>small</td>\n",
       "      <td>low</td>\n",
       "      <td>unacc</td>\n",
       "    </tr>\n",
       "    <tr>\n",
       "      <th>1</th>\n",
       "      <td>vhigh</td>\n",
       "      <td>vhigh</td>\n",
       "      <td>2</td>\n",
       "      <td>2</td>\n",
       "      <td>small</td>\n",
       "      <td>med</td>\n",
       "      <td>unacc</td>\n",
       "    </tr>\n",
       "    <tr>\n",
       "      <th>2</th>\n",
       "      <td>vhigh</td>\n",
       "      <td>vhigh</td>\n",
       "      <td>2</td>\n",
       "      <td>2</td>\n",
       "      <td>small</td>\n",
       "      <td>high</td>\n",
       "      <td>unacc</td>\n",
       "    </tr>\n",
       "    <tr>\n",
       "      <th>3</th>\n",
       "      <td>vhigh</td>\n",
       "      <td>vhigh</td>\n",
       "      <td>2</td>\n",
       "      <td>2</td>\n",
       "      <td>med</td>\n",
       "      <td>low</td>\n",
       "      <td>unacc</td>\n",
       "    </tr>\n",
       "    <tr>\n",
       "      <th>4</th>\n",
       "      <td>vhigh</td>\n",
       "      <td>vhigh</td>\n",
       "      <td>2</td>\n",
       "      <td>2</td>\n",
       "      <td>med</td>\n",
       "      <td>med</td>\n",
       "      <td>unacc</td>\n",
       "    </tr>\n",
       "  </tbody>\n",
       "</table>\n",
       "</div>"
      ],
      "text/plain": [
       "  buying  maint doors persons lug_boot safety  class\n",
       "0  vhigh  vhigh     2       2    small    low  unacc\n",
       "1  vhigh  vhigh     2       2    small    med  unacc\n",
       "2  vhigh  vhigh     2       2    small   high  unacc\n",
       "3  vhigh  vhigh     2       2      med    low  unacc\n",
       "4  vhigh  vhigh     2       2      med    med  unacc"
      ]
     },
     "execution_count": 10,
     "metadata": {},
     "output_type": "execute_result"
    }
   ],
   "source": [
    "df.head()"
   ]
  },
  {
   "cell_type": "markdown",
   "id": "2f7b3d35",
   "metadata": {},
   "source": [
    "# Exploração Inicial dos Dados\n",
    "\n",
    "Com o dataset carregado, agora farei uma exploração inicial para entender melhor sua estrutura, identificar tipos de variáveis, verificar valores únicos e checar se há dados ausentes. Essas informações são importantes para planejar o pré-processamento adequado mais adiante."
   ]
  },
  {
   "cell_type": "code",
   "execution_count": 11,
   "id": "8e62487a",
   "metadata": {},
   "outputs": [
    {
     "name": "stdout",
     "output_type": "stream",
     "text": [
      "Dimensão do dataset: (1728, 7)\n",
      "\n",
      "Informações sobre colunas:\n",
      "<class 'pandas.core.frame.DataFrame'>\n",
      "RangeIndex: 1728 entries, 0 to 1727\n",
      "Data columns (total 7 columns):\n",
      " #   Column    Non-Null Count  Dtype \n",
      "---  ------    --------------  ----- \n",
      " 0   buying    1728 non-null   object\n",
      " 1   maint     1728 non-null   object\n",
      " 2   doors     1728 non-null   object\n",
      " 3   persons   1728 non-null   object\n",
      " 4   lug_boot  1728 non-null   object\n",
      " 5   safety    1728 non-null   object\n",
      " 6   class     1728 non-null   object\n",
      "dtypes: object(7)\n",
      "memory usage: 94.6+ KB\n",
      "\n",
      "Total de valores ausentes por coluna:\n",
      "buying      0\n",
      "maint       0\n",
      "doors       0\n",
      "persons     0\n",
      "lug_boot    0\n",
      "safety      0\n",
      "class       0\n",
      "dtype: int64\n"
     ]
    }
   ],
   "source": [
    "# Dimensão do dataset\n",
    "print(\"Dimensão do dataset:\", df.shape)\n",
    "\n",
    "# Informações gerais sobre os tipos de dados\n",
    "print(\"\\nInformações sobre colunas:\")\n",
    "df.info()\n",
    "\n",
    "# Verificação de valores nulos\n",
    "print(\"\\nTotal de valores ausentes por coluna:\")\n",
    "print(df.isnull().sum())"
   ]
  },
  {
   "cell_type": "code",
   "execution_count": null,
   "id": "72254260",
   "metadata": {},
   "outputs": [
    {
     "name": "stdout",
     "output_type": "stream",
     "text": [
      "Valores únicos por coluna:\n",
      "buying      4\n",
      "maint       4\n",
      "doors       4\n",
      "persons     3\n",
      "lug_boot    3\n",
      "safety      3\n",
      "class       4\n",
      "dtype: int64\n",
      "\n",
      "Distribuição de valores em 'buying':\n",
      "buying\n",
      "vhigh    432\n",
      "high     432\n",
      "med      432\n",
      "low      432\n",
      "Name: count, dtype: int64\n",
      "\n",
      "Distribuição de valores em 'maint':\n",
      "maint\n",
      "vhigh    432\n",
      "high     432\n",
      "med      432\n",
      "low      432\n",
      "Name: count, dtype: int64\n",
      "\n",
      "Distribuição de valores em 'doors':\n",
      "doors\n",
      "2        432\n",
      "3        432\n",
      "4        432\n",
      "5more    432\n",
      "Name: count, dtype: int64\n",
      "\n",
      "Distribuição de valores em 'persons':\n",
      "persons\n",
      "2       576\n",
      "4       576\n",
      "more    576\n",
      "Name: count, dtype: int64\n",
      "\n",
      "Distribuição de valores em 'lug_boot':\n",
      "lug_boot\n",
      "small    576\n",
      "med      576\n",
      "big      576\n",
      "Name: count, dtype: int64\n",
      "\n",
      "Distribuição de valores em 'safety':\n",
      "safety\n",
      "low     576\n",
      "med     576\n",
      "high    576\n",
      "Name: count, dtype: int64\n",
      "\n",
      "Distribuição de valores em 'class':\n",
      "class\n",
      "unacc    1210\n",
      "acc       384\n",
      "good       69\n",
      "vgood      65\n",
      "Name: count, dtype: int64\n"
     ]
    }
   ],
   "source": [
    "# Verifico quantos valores únicos existem em cada coluna\n",
    "print(\"Valores únicos por coluna:\")\n",
    "print(df.nunique())\n",
    "\n",
    "# Frequência de valores por coluna (amostra)\n",
    "for coluna in df.columns:\n",
    "    print(f\"\\nDistribuição de valores em '{coluna}':\")\n",
    "    print(df[coluna].value_counts())"
   ]
  },
  {
   "cell_type": "markdown",
   "id": "d629e1c1",
   "metadata": {},
   "source": [
    "### Considerações iniciais\n",
    "\n",
    "O dataset possui 1.728 registros e 7 variáveis, todas categóricas. Nenhum valor ausente foi identificado, o que elimina a necessidade de tratamento de dados faltantes nesta etapa. A análise preliminar também mostrou que os atributos de entrada possuem uma distribuição de valores bastante uniforme, o que contribui para manter a diversidade nas observações.\n",
    "\n",
    "Por outro lado, a variável alvo (`class`) apresenta um desbalanceamento considerável: mais de 70% dos veículos foram classificados como `unacc`, enquanto as classes `good` e `vgood` aparecem com frequência muito menor. Essa discrepância pode ter impacto direto em análises futuras e deve ser levada em conta ao interpretar os padrões nos dados.\n",
    "\n",
    "Essas observações iniciais fornecem uma boa base para seguir com as estatísticas descritivas e as visualizações, aprofundando a compreensão sobre os comportamentos e relações entre as variáveis.\n"
   ]
  }
 ],
 "metadata": {
  "kernelspec": {
   "display_name": ".venv",
   "language": "python",
   "name": "python3"
  },
  "language_info": {
   "codemirror_mode": {
    "name": "ipython",
    "version": 3
   },
   "file_extension": ".py",
   "mimetype": "text/x-python",
   "name": "python",
   "nbconvert_exporter": "python",
   "pygments_lexer": "ipython3",
   "version": "3.11.9"
  }
 },
 "nbformat": 4,
 "nbformat_minor": 5
}
