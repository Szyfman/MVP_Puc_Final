{
 "cells": [
  {
   "cell_type": "markdown",
   "id": "6e0e9c27",
   "metadata": {},
   "source": [
    "# MVP Análise de Dados e Boas Práticas\n",
    "\n",
    "Nome: Daniel Waissmann Szyfman\n",
    "\n",
    "Matrícula: 4052024001726\n",
    "\n",
    "Dataset: [Car Evaluation Dataset](https://archive.ics.uci.edu/dataset/19/car+evaluation)"
   ]
  },
  {
   "cell_type": "markdown",
   "id": "f0625d99",
   "metadata": {},
   "source": [
    "# Introdução\n",
    "\n",
    "A avaliação de veículos é uma etapa essencial para a tomada de decisão por parte de consumidores, fabricantes e concessionárias. O *Car Evaluation Dataset*, disponibilizado pela UCI Machine Learning Repository, oferece uma base estruturada para análise automatizada de atributos de veículos, permitindo classificar o quão aceitável é um carro com base em critérios técnicos e financeiros.\n",
    "\n",
    "Este projeto tem como objetivo aplicar técnicas de análise exploratória e pré-processamento de dados para investigar padrões dentro deste dataset e preparar os dados para futuros modelos de machine learning. Utilizaremos a linguagem Python e bibliotecas como `pandas`, `numpy` e `seaborn`, sempre buscando adotar boas práticas de organização de código e narrativa interpretativa.\n",
    "\n",
    "Ao longo deste notebook, buscarei construir um storytelling claro: desde a definição do problema até o tratamento dos dados. A intenção é não apenas preparar os dados tecnicamente, mas também gerar insights práticos sobre os critérios que influenciam na avaliação de um veículo, e como esses critérios se relacionam entre si."
   ]
  },
  {
   "cell_type": "markdown",
   "id": "10db9c2d",
   "metadata": {},
   "source": [
    "# Definição do Problema\n",
    "\n",
    "O objetivo deste trabalho é compreender os fatores que influenciam a avaliação de veículos com base em seus atributos técnicos e econômicos. O conjunto de dados utilizado traz características como preço de compra, número de portas, capacidade de carga e segurança, entre outras variáveis categóricas."
   ]
  },
  {
   "cell_type": "markdown",
   "id": "e1319f1b",
   "metadata": {},
   "source": [
    "## Tipo de Problema\n",
    "\n",
    "Estou lidando com um problema de **classificação supervisionada**, no qual cada instância representa um veículo com características específicas, e a variável de saída indica o nível de aceitabilidade desse carro. A variável alvo possui quatro possíveis categorias: `unacc`, `acc`, `good` e `vgood`.\n",
    "\n",
    "O desafio é identificar como os atributos fornecidos contribuem para essa avaliação final e compreender os padrões que diferenciam carros mal avaliados daqueles considerados bons ou muito bons.\n"
   ]
  },
  {
   "cell_type": "markdown",
   "id": "ab3dd926",
   "metadata": {},
   "source": [
    "## Hipóteses\n",
    "\n",
    "Antes de iniciar a análise detalhada, levantei algumas hipóteses que pretendo verificar ao longo do trabalho:\n",
    "\n",
    "- Carros com maior capacidade de carga e mais portas tendem a ser melhor avaliados.\n",
    "- Veículos com manutenção muito cara ou baixa segurança provavelmente são classificados negativamente.\n",
    "- Pode haver combinações específicas entre segurança e preço de compra que afetam diretamente a avaliação, mesmo quando os demais atributos são favoráveis.\n",
    "- A segurança pode ter maior peso na classificação do que o número de passageiros ou o tamanho do porta-malas.\n",
    "- Veículos baratos com boa segurança podem ter avaliações boas mesmo com menor conforto.\n",
    "\n",
    "Essas hipóteses servirão como base para guiar a análise exploratória e a interpretação dos dados.\n"
   ]
  },
  {
   "cell_type": "markdown",
   "id": "95de19e5",
   "metadata": {},
   "source": [
    "## Seleção de Dados\n",
    "\n",
    "O dataset escolhido foi o *Car Evaluation Dataset*, originalmente publicado no UCI Machine Learning Repository. A base contém apenas atributos categóricos, que representam diferentes aspectos técnicos e funcionais de um veículo, e é amplamente utilizada para tarefas de classificação.\n",
    "\n",
    "A escolha foi motivada pela simplicidade estrutural, facilidade de entendimento e riqueza de combinações possíveis entre os atributos, o que permite uma análise interpretativa eficaz e um fluxo de pré-processamento direto.\n"
   ]
  },
  {
   "cell_type": "markdown",
   "id": "13606f6f",
   "metadata": {},
   "source": [
    "## Atributos do Dataset\n",
    "\n",
    "A base de dados é composta pelos seguintes atributos:\n",
    "\n",
    "- **buying**: custo de compra (valores: vhigh, high, med, low)\n",
    "- **maint**: custo de manutenção (valores: vhigh, high, med, low)\n",
    "- **doors**: número de portas (valores: 2, 3, 4, 5more)\n",
    "- **persons**: capacidade de pessoas (valores: 2, 4, more)\n",
    "- **lug_boot**: tamanho do porta-malas (valores: small, med, big)\n",
    "- **safety**: nível de segurança (valores: low, med, high)\n",
    "\n",
    "A variável alvo (que representa a classificação final do veículo) é:\n",
    "\n",
    "- **class**: avaliação final do carro (valores: unacc, acc, good, vgood)\n",
    "\n",
    "Todos os atributos do conjunto de dados são **categóricos com ordenação natural**. Isso significa que, apesar de representados por strings, existe uma hierarquia implícita entre os valores de cada atributo. Essa característica será essencial no momento do pré-processamento, quando precisarei aplicar uma codificação que preserve essa ordem.\n",
    "\n"
   ]
  },
  {
   "cell_type": "markdown",
   "id": "49567fb6",
   "metadata": {},
   "source": [
    "# Importação das Bibliotecas Necessárias e Carga de Dados\n",
    "\n",
    "Nesta etapa, realizarei a importação das bibliotecas essenciais para análise, visualização e preparação dos dados. Também farei o carregamento inicial do dataset para dar início à exploração."
   ]
  },
  {
   "cell_type": "code",
   "execution_count": 1,
   "id": "6b937567",
   "metadata": {},
   "outputs": [],
   "source": [
    "# Bibliotecas para manipulação e análise de dados\n",
    "import pandas as pd\n",
    "import numpy as np\n",
    "\n",
    "# Bibliotecas para visualização\n",
    "import matplotlib.pyplot as plt\n",
    "import seaborn as sns\n",
    "\n",
    "# Configurações opcionais para os gráficos\n",
    "# sns.set(style=\"whitegrid\")\n",
    "# plt.rcParams[\"figure.figsize\"] = (10, 6)\n"
   ]
  }
 ],
 "metadata": {
  "kernelspec": {
   "display_name": ".venv",
   "language": "python",
   "name": "python3"
  },
  "language_info": {
   "codemirror_mode": {
    "name": "ipython",
    "version": 3
   },
   "file_extension": ".py",
   "mimetype": "text/x-python",
   "name": "python",
   "nbconvert_exporter": "python",
   "pygments_lexer": "ipython3",
   "version": "3.11.9"
  }
 },
 "nbformat": 4,
 "nbformat_minor": 5
}
